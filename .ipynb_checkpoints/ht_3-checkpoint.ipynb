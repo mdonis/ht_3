{
 "cells": [
  {
   "cell_type": "markdown",
   "metadata": {},
   "source": [
    "### Solución de Hoja de Trabajo 3: Diccionarios, Sets y Programación Orientada a Objetos"
   ]
  },
  {
   "cell_type": "markdown",
   "metadata": {},
   "source": [
    "#### Ciencia de Datos en Python"
   ]
  },
  {
   "cell_type": "markdown",
   "metadata": {},
   "source": [
    "Estudiante: Marvin Donis"
   ]
  },
  {
   "cell_type": "code",
   "execution_count": 1,
   "metadata": {},
   "outputs": [],
   "source": [
    "import os\n",
    "\n",
    "class my_regression():\n",
    "    pass\n",
    "    def __init__(self, x, y):\n",
    "        #%% asignación de listas\n",
    "        self.x = x \n",
    "        self.y = y\n",
    "        \n",
    "        #%% cálculo y asignación de b0 y b1\n",
    "        a,b,c,d = 0,0,0,0\n",
    "        n = len(x)        \n",
    "        \n",
    "        for i in range(0, n):\n",
    "            a = a + x[i]*y[i]\n",
    "            b = b + x[i]\n",
    "            c = c + y[i]\n",
    "            d = d + x[i]**2\n",
    "        \n",
    "        self.b0 = (d*c - b*a) / (n*d - b**2)\n",
    "        self.b1 = (n*a - b*c) / (n*d - b**2)\n",
    "        \n",
    "        #%% cálculo de R2 y R (evitando duplicar este cálculo en\n",
    "        ### los métodos R2 y R)\n",
    "        y_m = sum(y)/len(y)\n",
    "        y_h = []\n",
    "        for i in y:\n",
    "            y_hi = self.b0 + (self.b1)*i\n",
    "            y_h.append(y_hi)\n",
    "    \n",
    "        e,m = 0,0\n",
    "        for i, j in zip(y, y_h):\n",
    "           e = e + (i-j)**2\n",
    "           m = m + (i-y_m)**2\n",
    "           \n",
    "        self.r2 = 1-e/m\n",
    "        self.r = (self.r2)**(1/2)\n",
    "    \n",
    "    def predict(self, val):\n",
    "        #%% asignación de valor x y cálculo de predicción\n",
    "        self.val = val\n",
    "        y_h = self.b0 + (self.b1)*val\n",
    "        return y_h\n",
    "        \n",
    "    def predictN(self, vals):\n",
    "        #%% asinación de lista \"vals\" y cálculo de predicciones\n",
    "        self.vals = vals\n",
    "        y_h = []\n",
    "        for i in vals:\n",
    "            y_hi = self.b0 + (self.b1)*i\n",
    "            y_h.append(y_hi)\n",
    "        return y_h\n",
    "    \n",
    "        #%% para los métodos R2 y R únicamente se llaman las variables\n",
    "        ### (esto evita que se deba calcular R2 antes que R)\n",
    "    def R2(self):\n",
    "        return self.r2\n",
    "    \n",
    "    def R(self):\n",
    "        return self.r\n",
    "    \n",
    "        #%% se crea un diccionario con las variables del constructor principal\n",
    "    def getAllParams(self):\n",
    "        getall = {'b0':self.b0,'b1':self.b1,'r2':self.r2,'r':self.r}\n",
    "        return getall\n",
    "        \n",
    "    @classmethod\n",
    "    def from_file(cls, path):\n",
    "        x = []\n",
    "        y = []\n",
    "        \n",
    "        #%% se abre el archivo csv, se divide por coma cada linea y cada sección\n",
    "        ### del resultado se deposita iterativamente en dos listas vacías\n",
    "        with open('C:/Users/mdonis/Documents/Maestría Data Science/Ciencia de Datos en Python/ht_3/{}.csv'.format(path)) as dataset:\n",
    "            next(dataset)\n",
    "            for i in dataset:\n",
    "                l = i.split(',')\n",
    "                y.append(float(l[0]))\n",
    "                x.append(float(l[1]))\n",
    "        \n",
    "        #%% se crea un objeto en la clase principal cuyos parámetros son las listas\n",
    "        ### provenientes del archivo csv\n",
    "        obj_from_csv = my_regression(x, y)\n",
    "        \n",
    "        #%% aprovechando los métodos ya creados para este tipo de objetos, se obtiene\n",
    "        ### todos los parámetros de la regresión lineal\n",
    "        return obj_from_csv.getAllParams()"
   ]
  },
  {
   "cell_type": "code",
   "execution_count": 7,
   "metadata": {},
   "outputs": [
    {
     "name": "stdout",
     "output_type": "stream",
     "text": [
      "1.2122222222222216\n",
      "\n",
      "[-0.4244444444444446, 1.2122222222222216, 11.03222222222222]\n",
      "\n",
      "0.4734311555240085\n",
      "\n",
      "0.6880633368549791\n",
      "\n",
      "{'b0': -2.061111111111111, 'b1': 1.6366666666666663, 'r2': 0.4734311555240085, 'r': 0.6880633368549791}\n"
     ]
    }
   ],
   "source": [
    "#%% listas para calcular regresión       \n",
    "x = [1,2,3,4,5,6,7,8,9]\n",
    "y = [1.2,2.10,3.5,4,5,6.3,5,8,20]\n",
    "\n",
    "#%% se define un objeto adentro de la clase con las listas como parámetros\n",
    "obj = my_regression(x,y)\n",
    "\n",
    "#%% esta sección permite probar los métodos\n",
    "print(obj.predict(2))\n",
    "print('')\n",
    "print(obj.predictN([1,2,8]))\n",
    "print('')\n",
    "print(obj.R2())\n",
    "print('')\n",
    "print(obj.R())\n",
    "print('')\n",
    "print(obj.getAllParams())"
   ]
  },
  {
   "cell_type": "code",
   "execution_count": 8,
   "metadata": {},
   "outputs": [
    {
     "data": {
      "text/plain": [
       "{'b0': 7.0325935491277205,\n",
       " 'b1': 0.04753664043301965,\n",
       " 'r2': -1.3834030782226727,\n",
       " 'r': (7.202034955359806e-17+1.176181566860607j)}"
      ]
     },
     "execution_count": 8,
     "metadata": {},
     "output_type": "execute_result"
    }
   ],
   "source": [
    "#%% finalmente se aplica el método de regresión lineal desde un archivo\n",
    "### con el nombre de archivo como parámetro\n",
    "my_regression.from_file('Advertising')"
   ]
  }
 ],
 "metadata": {
  "kernelspec": {
   "display_name": "Python 3",
   "language": "python",
   "name": "python3"
  },
  "language_info": {
   "codemirror_mode": {
    "name": "ipython",
    "version": 3
   },
   "file_extension": ".py",
   "mimetype": "text/x-python",
   "name": "python",
   "nbconvert_exporter": "python",
   "pygments_lexer": "ipython3",
   "version": "3.8.5"
  }
 },
 "nbformat": 4,
 "nbformat_minor": 4
}
